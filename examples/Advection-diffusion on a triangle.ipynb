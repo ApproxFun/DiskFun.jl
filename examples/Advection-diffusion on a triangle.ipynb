{
 "cells": [
  {
   "cell_type": "code",
   "execution_count": 15,
   "metadata": {
    "collapsed": false
   },
   "outputs": [
    {
     "ename": "LoadError",
     "evalue": "LoadError: UndefVarError: mgrid not defined\nwhile loading In[15], in expression starting on line 1",
     "output_type": "error",
     "traceback": [
      "LoadError: UndefVarError: mgrid not defined\nwhile loading In[15], in expression starting on line 1",
      ""
     ]
    }
   ],
   "source": [
    "mgrid(0f0:dphi:(pi+dphi*1.5f0), 0f0:dtheta:(2f0*pi+dtheta*1.5f0));"
   ]
  },
  {
   "cell_type": "code",
   "execution_count": 30,
   "metadata": {
    "collapsed": false
   },
   "outputs": [
    {
     "ename": "LoadError",
     "evalue": "LoadError: MethodError: no method matching points(::MultivariateOrthogonalPolynomials.Triangle, ::Int64)\nClosest candidates are:\n  points{T,DD}(::Union{ApproxFun.Domain{T,2},ApproxFun.Space{T,DD,2}}, ::Any, !Matched::Any) at /Users/solver/.julia/v0.5/ApproxFun/src/Multivariate/TensorSpace.jl:438\n  points(!Matched::MultivariateOrthogonalPolynomials.JacobiTriangle, ::Integer) at /Users/solver/.julia/v0.5/MultivariateOrthogonalPolynomials/src/Triangle.jl:40\n  points(!Matched::ApproxFun.IntervalCurve{S<:ApproxFun.Space,T}, ::Integer) at /Users/solver/.julia/v0.5/ApproxFun/src/Domains/Curve.jl:30\n  ...\nwhile loading In[30], in expression starting on line 4",
     "output_type": "error",
     "traceback": [
      "LoadError: MethodError: no method matching points(::MultivariateOrthogonalPolynomials.Triangle, ::Int64)\nClosest candidates are:\n  points{T,DD}(::Union{ApproxFun.Domain{T,2},ApproxFun.Space{T,DD,2}}, ::Any, !Matched::Any) at /Users/solver/.julia/v0.5/ApproxFun/src/Multivariate/TensorSpace.jl:438\n  points(!Matched::MultivariateOrthogonalPolynomials.JacobiTriangle, ::Integer) at /Users/solver/.julia/v0.5/MultivariateOrthogonalPolynomials/src/Triangle.jl:40\n  points(!Matched::ApproxFun.IntervalCurve{S<:ApproxFun.Space,T}, ::Integer) at /Users/solver/.julia/v0.5/ApproxFun/src/Domains/Curve.jl:30\n  ...\nwhile loading In[30], in expression starting on line 4",
      "",
      " in points(::MultivariateOrthogonalPolynomials.ProductTriangle, ::Int64) at /Users/solver/.julia/v0.5/ApproxFun/src/Fun/Space.jl:144"
     ]
    }
   ],
   "source": [
    "using MultivariateOrthogonalPolynomials\n",
    "\n",
    "S = MultivariateOrthogonalPolynomials.ProductTriangle(1,1,1)\n",
    "ApproxFun.points(S,1)"
   ]
  },
  {
   "cell_type": "code",
   "execution_count": 22,
   "metadata": {
    "collapsed": false
   },
   "outputs": [
    {
     "name": "stderr",
     "output_type": "stream",
     "text": [
      "WARNING: Method definition mgrid(Any, Any) in module Main at In[21]:2 overwritten at In[22]:2.\n"
     ]
    },
    {
     "data": {
      "text/plain": [
       "Task (runnable) @0x000000011be6a410"
      ]
     },
     "execution_count": 22,
     "metadata": {},
     "output_type": "execute_result"
    }
   ],
   "source": [
    "function mgrid(dim1, dim2)\n",
    "    X = [i for i in dim1, j in dim2]\n",
    "    Y = [j for i in dim1, j in dim2]\n",
    "    return X,Y\n",
    "end\n",
    "X, Y = mgrid(linspace(-1f0,1f0,100),linspace(-1f0,1f0,100))\n",
    "Z = exp.(-X.^2-Y.^2)\n",
    "\n",
    "\n",
    "window = glscreen()\n",
    "_view(visualize((X,Y,Z), :surface))\n",
    "@async renderloop(window)"
   ]
  },
  {
   "cell_type": "code",
   "execution_count": 11,
   "metadata": {
    "collapsed": false
   },
   "outputs": [
    {
     "ename": "LoadError",
     "evalue": "LoadError: MethodError: no method matching _default(::Tuple{Array{Float32,1},Array{Float32,1},Array{Float32,1}}, ::GLAbstraction.Style{:surface}, ::Dict{Symbol,Any})\nClosest candidates are:\n  _default(!Matched::GLAbstraction.Shader, ::GLAbstraction.Style{StyleValue}, ::Dict{K,V}) at /Users/solver/.julia/v0.5/GLVisualize/src/visualize/image_like.jl:129\n  _default(!Matched::GeometryTypes.HomogenousMesh{FixedSizeArrays.Point{3,Float32},GeometryTypes.Face{3,UInt32,-1},GeometryTypes.Normal{3,Float32},Void,ColorTypes.RGBA{Float32},Void,Void}, ::GLAbstraction.Style{StyleValue}, ::Dict{K,V}) at /Users/solver/.julia/v0.5/GLVisualize/src/visualize/mesh.jl:40\n  _default{T<:FixedSizeArrays.Point{N,T}}(!Matched::Union{Array{GeometryTypes.Simplex{2,T<:FixedSizeArrays.Point},1},GLAbstraction.GPUArray{GeometryTypes.Simplex{2,T<:FixedSizeArrays.Point},1},Reactive.Signal{Array{GeometryTypes.Simplex{2,T<:FixedSizeArrays.Point},1}}}, ::GLAbstraction.Style{StyleValue}, ::Dict{K,V}) at /Users/solver/.julia/v0.5/GLVisualize/src/visualize/lines.jl:107\n  ...\nwhile loading In[11], in expression starting on line 15",
     "output_type": "error",
     "traceback": [
      "LoadError: MethodError: no method matching _default(::Tuple{Array{Float32,1},Array{Float32,1},Array{Float32,1}}, ::GLAbstraction.Style{:surface}, ::Dict{Symbol,Any})\nClosest candidates are:\n  _default(!Matched::GLAbstraction.Shader, ::GLAbstraction.Style{StyleValue}, ::Dict{K,V}) at /Users/solver/.julia/v0.5/GLVisualize/src/visualize/image_like.jl:129\n  _default(!Matched::GeometryTypes.HomogenousMesh{FixedSizeArrays.Point{3,Float32},GeometryTypes.Face{3,UInt32,-1},GeometryTypes.Normal{3,Float32},Void,ColorTypes.RGBA{Float32},Void,Void}, ::GLAbstraction.Style{StyleValue}, ::Dict{K,V}) at /Users/solver/.julia/v0.5/GLVisualize/src/visualize/mesh.jl:40\n  _default{T<:FixedSizeArrays.Point{N,T}}(!Matched::Union{Array{GeometryTypes.Simplex{2,T<:FixedSizeArrays.Point},1},GLAbstraction.GPUArray{GeometryTypes.Simplex{2,T<:FixedSizeArrays.Point},1},Reactive.Signal{Array{GeometryTypes.Simplex{2,T<:FixedSizeArrays.Point},1}}}, ::GLAbstraction.Style{StyleValue}, ::Dict{K,V}) at /Users/solver/.julia/v0.5/GLVisualize/src/visualize/lines.jl:107\n  ...\nwhile loading In[11], in expression starting on line 15",
      "",
      " in default(::Any, ::Any, ::Any) at /Users/solver/.julia/v0.5/GLVisualize/src/visualize_interface.jl:4",
      " in visualize(::Any, ::GLAbstraction.Style{:surface}, ::Dict{Symbol,Any}) at /Users/solver/.julia/v0.5/GLVisualize/src/visualize_interface.jl:21",
      " in visualize(::Any, ::Symbol) at /Users/solver/.julia/v0.5/GLVisualize/src/visualize_interface.jl:20"
     ]
    }
   ],
   "source": [
    "using GLVisualize, GLAbstraction, Colors, Reactive, GeometryTypes, ApproxFun\n",
    "\n",
    "\n",
    "f = Fun((x,y)->exp(-x^2-y^2)*cos(y))\n",
    "\n",
    "\n",
    "pts = points(f)\n",
    "\n",
    "x = Float32.(first.(pts))\n",
    "y = Float32.(last.(pts))\n",
    "z = Float32.(values(f))\n",
    "\n",
    "\n",
    "window = glscreen()\n",
    "_view(visualize((x,y,z), :surface))\n",
    "@async renderloop(window)"
   ]
  },
  {
   "cell_type": "code",
   "execution_count": 6,
   "metadata": {
    "collapsed": false
   },
   "outputs": [
    {
     "name": "stderr",
     "output_type": "stream",
     "text": [
      "WARNING: Method definition xy_data(Any, Any, Any, Any) in module Main at In[5]:8 overwritten at In[6]:8.\n",
      "WARNING: Method definition surf(Any, Any) in module Main at In[5]:14 overwritten at In[6]:14.\n"
     ]
    },
    {
     "ename": "LoadError",
     "evalue": "LoadError: MethodError: no method matching _default(::Tuple{Array{Float32,1},Array{Float32,1},Array{Float32,2}}, ::GLAbstraction.Style{:surface}, ::Dict{Symbol,Any})\nClosest candidates are:\n  _default(!Matched::GLAbstraction.Shader, ::GLAbstraction.Style{StyleValue}, ::Dict{K,V}) at /Users/solver/.julia/v0.5/GLVisualize/src/visualize/image_like.jl:129\n  _default(!Matched::GeometryTypes.HomogenousMesh{FixedSizeArrays.Point{3,Float32},GeometryTypes.Face{3,UInt32,-1},GeometryTypes.Normal{3,Float32},Void,ColorTypes.RGBA{Float32},Void,Void}, ::GLAbstraction.Style{StyleValue}, ::Dict{K,V}) at /Users/solver/.julia/v0.5/GLVisualize/src/visualize/mesh.jl:40\n  _default{T<:FixedSizeArrays.Point{N,T}}(!Matched::Union{Array{GeometryTypes.Simplex{2,T<:FixedSizeArrays.Point},1},GLAbstraction.GPUArray{GeometryTypes.Simplex{2,T<:FixedSizeArrays.Point},1},Reactive.Signal{Array{GeometryTypes.Simplex{2,T<:FixedSizeArrays.Point},1}}}, ::GLAbstraction.Style{StyleValue}, ::Dict{K,V}) at /Users/solver/.julia/v0.5/GLVisualize/src/visualize/lines.jl:107\n  ...\nwhile loading In[6], in expression starting on line 20",
     "output_type": "error",
     "traceback": [
      "LoadError: MethodError: no method matching _default(::Tuple{Array{Float32,1},Array{Float32,1},Array{Float32,2}}, ::GLAbstraction.Style{:surface}, ::Dict{Symbol,Any})\nClosest candidates are:\n  _default(!Matched::GLAbstraction.Shader, ::GLAbstraction.Style{StyleValue}, ::Dict{K,V}) at /Users/solver/.julia/v0.5/GLVisualize/src/visualize/image_like.jl:129\n  _default(!Matched::GeometryTypes.HomogenousMesh{FixedSizeArrays.Point{3,Float32},GeometryTypes.Face{3,UInt32,-1},GeometryTypes.Normal{3,Float32},Void,ColorTypes.RGBA{Float32},Void,Void}, ::GLAbstraction.Style{StyleValue}, ::Dict{K,V}) at /Users/solver/.julia/v0.5/GLVisualize/src/visualize/mesh.jl:40\n  _default{T<:FixedSizeArrays.Point{N,T}}(!Matched::Union{Array{GeometryTypes.Simplex{2,T<:FixedSizeArrays.Point},1},GLAbstraction.GPUArray{GeometryTypes.Simplex{2,T<:FixedSizeArrays.Point},1},Reactive.Signal{Array{GeometryTypes.Simplex{2,T<:FixedSizeArrays.Point},1}}}, ::GLAbstraction.Style{StyleValue}, ::Dict{K,V}) at /Users/solver/.julia/v0.5/GLVisualize/src/visualize/lines.jl:107\n  ...\nwhile loading In[6], in expression starting on line 20",
      "",
      " in default(::Any, ::Any, ::Any) at /Users/solver/.julia/v0.5/GLVisualize/src/visualize_interface.jl:4",
      " in visualize(::Any, ::GLAbstraction.Style{:surface}, ::Dict{Symbol,Any}) at /Users/solver/.julia/v0.5/GLVisualize/src/visualize_interface.jl:21",
      " in (::GLVisualize.#kw##visualize)(::Array{Any,1}, ::GLVisualize.#visualize, ::Any, ::Symbol) at ./<missing>:0"
     ]
    }
   ],
   "source": [
    "using GLVisualize, GLAbstraction, Colors, Reactive, GeometryTypes\n",
    "\n",
    "window = glscreen()\n",
    "timesignal = loop(linspace(0f0,1f0,360))\n",
    "\n",
    "# generate some pretty data\n",
    "function xy_data(x,y,i, N)\n",
    "    x = ((x/N)-0.5f0)*i\n",
    "    y = ((y/N)-0.5f0)*i\n",
    "    r = sqrt(x*x + y*y)\n",
    "    Float32(sin(r)/r)\n",
    "end\n",
    "\n",
    "surf(i, N) = Float32[xy_data(x, y, i, N) for x=1:N, y=1:N]\n",
    "\n",
    "t = map(t->(t*30f0)+20f0, timesignal)\n",
    "\n",
    "bb = Signal(AABB{Float32}(Vec3f0(0), Vec3f0(1)))\n",
    "\n",
    "_view(visualize((Float32.(1:400),Float32.(1:400),surf(1,400)), :surface, boundingbox=bb))\n",
    "\n",
    "@async renderloop(window)"
   ]
  },
  {
   "cell_type": "code",
   "execution_count": 4,
   "metadata": {
    "collapsed": false
   },
   "outputs": [
    {
     "data": {
      "text/plain": [
       "400-element Array{Float32,1}:\n",
       "   1.0\n",
       "   2.0\n",
       "   3.0\n",
       "   4.0\n",
       "   5.0\n",
       "   6.0\n",
       "   7.0\n",
       "   8.0\n",
       "   9.0\n",
       "  10.0\n",
       "  11.0\n",
       "  12.0\n",
       "  13.0\n",
       "   ⋮  \n",
       " 389.0\n",
       " 390.0\n",
       " 391.0\n",
       " 392.0\n",
       " 393.0\n",
       " 394.0\n",
       " 395.0\n",
       " 396.0\n",
       " 397.0\n",
       " 398.0\n",
       " 399.0\n",
       " 400.0"
      ]
     },
     "execution_count": 4,
     "metadata": {},
     "output_type": "execute_result"
    }
   ],
   "source": [
    "Float32.(1:400)"
   ]
  },
  {
   "cell_type": "code",
   "execution_count": 2,
   "metadata": {
    "collapsed": false
   },
   "outputs": [
    {
     "name": "stderr",
     "output_type": "stream",
     "text": [
      "WARNING: Method definition xy_data(Any, Any, Any, Any) in module Main at In[1]:8 overwritten at In[2]:8.\n",
      "WARNING: Method definition surf(Any, Any) in module Main at In[1]:14 overwritten at In[2]:14.\n"
     ]
    }
   ],
   "source": [
    "using GLVisualize, GLAbstraction, Colors, Reactive, GeometryTypes\n",
    "\n",
    "window = glscreen()\n",
    "timesignal = loop(linspace(0f0,1f0,360))\n",
    "\n",
    "# generate some pretty data\n",
    "function xy_data(x,y,i, N)\n",
    "    x = ((x/N)-0.5f0)*i\n",
    "    y = ((y/N)-0.5f0)*i\n",
    "    r = sqrt(x*x + y*y)\n",
    "    Float32(sin(r)/r)\n",
    "end\n",
    "\n",
    "surf(i, N) = Float32[xy_data(x, y, i, N) for x=1:N, y=1:N]\n",
    "\n",
    "t = map(t->(t*30f0)+20f0, timesignal)\n",
    "\n",
    "bb = Signal(AABB{Float32}(Vec3f0(0), Vec3f0(1)))\n",
    "\n",
    "_view(visualize(const_lift(surf, t, 400), :surface, boundingbox=bb))\n",
    "\n",
    "renderloop(window)"
   ]
  },
  {
   "cell_type": "code",
   "execution_count": 1,
   "metadata": {
    "collapsed": false
   },
   "outputs": [],
   "source": [
    "using ApproxFun, MultivariateOrthogonalPolynomials, Reactive, GLAbstraction, GLVisualize"
   ]
  },
  {
   "cell_type": "code",
   "execution_count": 3,
   "metadata": {
    "collapsed": false
   },
   "outputs": [
    {
     "name": "stderr",
     "output_type": "stream",
     "text": [
      "WARNING: Method definition xy_data(Any, Any, Any, Any) in module Main at In[2]:2 overwritten at In[3]:2.\n",
      "WARNING: Method definition surf(Any, Any) in module Main at In[2]:8 overwritten at In[3]:8.\n"
     ]
    },
    {
     "ename": "LoadError",
     "evalue": "LoadError: MethodError: no method matching view(::GLAbstraction.Context{GLAbstraction.DeviceUnit})\nClosest candidates are:\n  view(!Matched::ApproxFun.BandedBlockBandedMatrix{T,RI,CI}, !Matched::Union{ApproxFun.Block,ApproxFun.SubBlock{R}}, !Matched::Union{ApproxFun.Block,ApproxFun.SubBlock{R}}) at /Users/solver/.julia/v0.5/ApproxFun/src/LinearAlgebra/BandedBlockBandedMatrix.jl:80\n  view(!Matched::ApproxFun.AbstractBlockBandedMatrix{T}, !Matched::Union{ApproxFun.Block,ApproxFun.SubBlock{R},UnitRange{ApproxFun.Block}}, !Matched::Union{ApproxFun.Block,ApproxFun.SubBlock{R},UnitRange{ApproxFun.Block}}) at /Users/solver/.julia/v0.5/ApproxFun/src/LinearAlgebra/BlockBandedMatrix.jl:765\n  view(!Matched::SubArray{T,2,BBM<:ApproxFun.BlockBandedMatrix,Tuple{II<:Union{ApproxFun.Block,ApproxFun.SubBlock},JJ<:Union{ApproxFun.Block,ApproxFun.SubBlock}},false}, !Matched::Colon, !Matched::Colon) at /Users/solver/.julia/v0.5/ApproxFun/src/LinearAlgebra/BlockBandedMatrix.jl:768\n  ...\nwhile loading In[3], in expression starting on line 11",
     "output_type": "error",
     "traceback": [
      "LoadError: MethodError: no method matching view(::GLAbstraction.Context{GLAbstraction.DeviceUnit})\nClosest candidates are:\n  view(!Matched::ApproxFun.BandedBlockBandedMatrix{T,RI,CI}, !Matched::Union{ApproxFun.Block,ApproxFun.SubBlock{R}}, !Matched::Union{ApproxFun.Block,ApproxFun.SubBlock{R}}) at /Users/solver/.julia/v0.5/ApproxFun/src/LinearAlgebra/BandedBlockBandedMatrix.jl:80\n  view(!Matched::ApproxFun.AbstractBlockBandedMatrix{T}, !Matched::Union{ApproxFun.Block,ApproxFun.SubBlock{R},UnitRange{ApproxFun.Block}}, !Matched::Union{ApproxFun.Block,ApproxFun.SubBlock{R},UnitRange{ApproxFun.Block}}) at /Users/solver/.julia/v0.5/ApproxFun/src/LinearAlgebra/BlockBandedMatrix.jl:765\n  view(!Matched::SubArray{T,2,BBM<:ApproxFun.BlockBandedMatrix,Tuple{II<:Union{ApproxFun.Block,ApproxFun.SubBlock},JJ<:Union{ApproxFun.Block,ApproxFun.SubBlock}},false}, !Matched::Colon, !Matched::Colon) at /Users/solver/.julia/v0.5/ApproxFun/src/LinearAlgebra/BlockBandedMatrix.jl:768\n  ...\nwhile loading In[3], in expression starting on line 11",
      ""
     ]
    }
   ],
   "source": [
    "function xy_data(x,y,i, N)\n",
    "    x = ((x/N)-0.5f0)*i\n",
    "    y = ((y/N)-0.5f0)*i\n",
    "    r = sqrt(x*x + y*y)\n",
    "    Float32(sin(r)/r)\n",
    "end\n",
    "\n",
    "surf(i, N) = Float32[xy_data(x, y, i, N) for x=1:N, y=1:N]\n",
    "\n",
    "window = glscreen()\n",
    "view(visualize(surf(1,10),:surface))\n",
    "@async renderloop(window)"
   ]
  },
  {
   "cell_type": "code",
   "execution_count": 12,
   "metadata": {
    "collapsed": false
   },
   "outputs": [
    {
     "ename": "LoadError",
     "evalue": "LoadError: MethodError: no method matching view(::GLAbstraction.Context{GLAbstraction.DeviceUnit})\nClosest candidates are:\n  view(!Matched::ApproxFun.BandedBlockBandedMatrix{T,RI,CI}, !Matched::Union{ApproxFun.Block,ApproxFun.SubBlock{R}}, !Matched::Union{ApproxFun.Block,ApproxFun.SubBlock{R}}) at /Users/solver/.julia/v0.5/ApproxFun/src/LinearAlgebra/BandedBlockBandedMatrix.jl:80\n  view(!Matched::ApproxFun.AbstractBlockBandedMatrix{T}, !Matched::Union{ApproxFun.Block,ApproxFun.SubBlock{R},UnitRange{ApproxFun.Block}}, !Matched::Union{ApproxFun.Block,ApproxFun.SubBlock{R},UnitRange{ApproxFun.Block}}) at /Users/solver/.julia/v0.5/ApproxFun/src/LinearAlgebra/BlockBandedMatrix.jl:765\n  view(!Matched::SubArray{T,2,BBM<:ApproxFun.BlockBandedMatrix,Tuple{II<:Union{ApproxFun.Block,ApproxFun.SubBlock},JJ<:Union{ApproxFun.Block,ApproxFun.SubBlock}},false}, !Matched::Colon, !Matched::Colon) at /Users/solver/.julia/v0.5/ApproxFun/src/LinearAlgebra/BlockBandedMatrix.jl:768\n  ...\nwhile loading In[12], in expression starting on line 3",
     "output_type": "error",
     "traceback": [
      "LoadError: MethodError: no method matching view(::GLAbstraction.Context{GLAbstraction.DeviceUnit})\nClosest candidates are:\n  view(!Matched::ApproxFun.BandedBlockBandedMatrix{T,RI,CI}, !Matched::Union{ApproxFun.Block,ApproxFun.SubBlock{R}}, !Matched::Union{ApproxFun.Block,ApproxFun.SubBlock{R}}) at /Users/solver/.julia/v0.5/ApproxFun/src/LinearAlgebra/BandedBlockBandedMatrix.jl:80\n  view(!Matched::ApproxFun.AbstractBlockBandedMatrix{T}, !Matched::Union{ApproxFun.Block,ApproxFun.SubBlock{R},UnitRange{ApproxFun.Block}}, !Matched::Union{ApproxFun.Block,ApproxFun.SubBlock{R},UnitRange{ApproxFun.Block}}) at /Users/solver/.julia/v0.5/ApproxFun/src/LinearAlgebra/BlockBandedMatrix.jl:765\n  view(!Matched::SubArray{T,2,BBM<:ApproxFun.BlockBandedMatrix,Tuple{II<:Union{ApproxFun.Block,ApproxFun.SubBlock},JJ<:Union{ApproxFun.Block,ApproxFun.SubBlock}},false}, !Matched::Colon, !Matched::Colon) at /Users/solver/.julia/v0.5/ApproxFun/src/LinearAlgebra/BlockBandedMatrix.jl:768\n  ...\nwhile loading In[12], in expression starting on line 3",
      ""
     ]
    }
   ],
   "source": [
    "timesignal = loop(linspace(0f0,1f0,360))\n",
    "t = map(t->(t*30f0)+20f0, timesignal)\n"
   ]
  },
  {
   "cell_type": "code",
   "execution_count": 5,
   "metadata": {
    "collapsed": false
   },
   "outputs": [
    {
     "data": {
      "text/plain": [
       "Fun(Chebyshev(【-1.0,1.0】)⊗Chebyshev(【-1.0,1.0】),[0.341625,0.0,8.831e-18,-0.253402,0.0,-0.165688,0.0,3.56592e-18,0.0,-2.07425e-17  …  0.0,-3.66372e-14,0.0,-3.00777e-14,0.0,-1.8232e-14,0.0,-8.03017e-15,0.0,-2.4789e-15])"
      ]
     },
     "execution_count": 5,
     "metadata": {},
     "output_type": "execute_result"
    }
   ],
   "source": [
    "f = Fun((x,y)->exp(-x^2-y^2)*cos(y))"
   ]
  },
  {
   "cell_type": "code",
   "execution_count": null,
   "metadata": {
    "collapsed": true
   },
   "outputs": [],
   "source": []
  },
  {
   "cell_type": "code",
   "execution_count": 47,
   "metadata": {
    "collapsed": false
   },
   "outputs": [],
   "source": [
    "S = TriangleWeight(1,1,1,JacobiTriangle(1,1,1))\n",
    "Δ = Laplacian(S)\n",
    "Dx = Derivative(S,[1,0])\n",
    "Dy = Derivative(S,[0,1])\n",
    "\n",
    "h=0.001\n",
    "ε=0.01\n",
    "\n",
    "\n",
    "A=I-h*(ε*Δ+Dx)\n",
    "\n",
    "QR=qrfact(A)\n",
    "\n",
    "u0=10Fun(S,randn(10));"
   ]
  },
  {
   "cell_type": "code",
   "execution_count": 48,
   "metadata": {
    "collapsed": false
   },
   "outputs": [
    {
     "data": {
      "text/plain": [
       "Signal{Plots.Plot{Plots.GRBackend}}(Plot{Plots.GRBackend() n=1}, nactions=0)"
      ]
     },
     "execution_count": 48,
     "metadata": {},
     "output_type": "execute_result"
    }
   ],
   "source": [
    "u = Signal(u0);\n",
    "map(u->surface(u),u)"
   ]
  },
  {
   "cell_type": "code",
   "execution_count": 38,
   "metadata": {
    "collapsed": false
   },
   "outputs": [],
   "source": [
    "push!(u,10u0)"
   ]
  },
  {
   "cell_type": "code",
   "execution_count": 51,
   "metadata": {
    "collapsed": false
   },
   "outputs": [
    {
     "data": {
      "text/plain": [
       "Plots.PlotlyBackend()"
      ]
     },
     "execution_count": 51,
     "metadata": {},
     "output_type": "execute_result"
    }
   ],
   "source": [
    "plotly()"
   ]
  },
  {
   "cell_type": "code",
   "execution_count": null,
   "metadata": {
    "collapsed": true
   },
   "outputs": [],
   "source": []
  }
 ],
 "metadata": {
  "anaconda-cloud": {},
  "kernelspec": {
   "display_name": "Julia 0.5.0",
   "language": "julia",
   "name": "julia-0.5"
  },
  "language_info": {
   "file_extension": ".jl",
   "mimetype": "application/julia",
   "name": "julia",
   "version": "0.5.0"
  }
 },
 "nbformat": 4,
 "nbformat_minor": 1
}
