{
 "metadata": {
  "language": "Julia",
  "name": "",
  "signature": "sha256:9fa3e995d43d6dda2aa5a1a9e8e70a989c606f666d61b87be29ce9a922862b7d"
 },
 "nbformat": 3,
 "nbformat_minor": 0,
 "worksheets": [
  {
   "cells": [
    {
     "cell_type": "code",
     "collapsed": false,
     "input": [
      "# Requires GLPlot\n",
      "using ApproxFun"
     ],
     "language": "python",
     "metadata": {},
     "outputs": [],
     "prompt_number": 1
    },
    {
     "cell_type": "heading",
     "level": 1,
     "metadata": {},
     "source": [
      "Heat equation with Dirichlet\n",
      " $$u_t =  \\Delta u$$"
     ]
    },
    {
     "cell_type": "code",
     "collapsed": false,
     "input": [
      "# domain is a disk\n",
      "d=Disk()\n",
      "# initial condition\n",
      "u0   = Fun((x,y)->exp(-40(x-.1)^2-40(y+.2)^2),d)\n",
      "# dirichlet boundary conditions\n",
      "B=dirichlet(d)\n",
      "\n",
      "\u0394=lap(d)\n",
      "h=0.0001 # time step\n",
      "timeevolution(B,\u0394,ProductFun(u0),h)"
     ],
     "language": "python",
     "metadata": {},
     "outputs": [
      {
       "ename": "LoadError",
       "evalue": "The GLFW library is not initialized\nwhile loading In[2], in expression starting on line 10",
       "output_type": "pyerr",
       "traceback": [
        "The GLFW library is not initialized\nwhile loading In[2], in expression starting on line 10",
        "",
        " in error at error.jl:21",
        " in anonymous at /Users/solver/.julia/v0.3/GLFW/src/GLFW.jl:27",
        " in ErrorCallbackWrapper at /Users/solver/.julia/v0.3/GLFW/src/util.jl:36",
        " in PollEvents at /Users/solver/.julia/v0.3/GLFW/src/glfw3.jl:419",
        " in glupdatewindow at /Users/solver/.julia/v0.3/ApproxFun/src/Plot/GLPlot.jl:35",
        " in glsurfupdate at /Users/solver/.julia/v0.3/ApproxFun/src/Plot/GLPlot.jl:53",
        " in plot at /Users/solver/.julia/v0.3/ApproxFun/src/Plot/Plot.jl:203",
        " in timeevolution at /Users/solver/.julia/v0.3/ApproxFun/src/Extras/timeevolution.jl:130",
        " in timeevolution at /Users/solver/.julia/v0.3/ApproxFun/src/Extras/timeevolution.jl:141",
        " in timeevolution at /Users/solver/.julia/v0.3/ApproxFun/src/Extras/timeevolution.jl:148"
       ]
      }
     ],
     "prompt_number": 2
    },
    {
     "cell_type": "heading",
     "level": 1,
     "metadata": {},
     "source": [
      "Wave equation with Dirichlet \n",
      "$$u_{tt} = \\Delta u$$"
     ]
    },
    {
     "cell_type": "code",
     "collapsed": false,
     "input": [
      "# domain is a disk\n",
      "d=Disk()\n",
      "\n",
      "# initial condition\n",
      "u0   = Fun((x,y)->exp(-50x^2-40(y-.1)^2)+.5exp(-30(x+.5)^2-40(y+.2)^2),d)\n",
      "\n",
      "# dirichlet boundary conditions, try neumann(d).  mixed is also possible\n",
      "B= dirichlet(d)   \n",
      "\u0394=lap(d)\n",
      "h = 0.005\n",
      "\n",
      "# the 2 specifies that we are solving a second order equation\n",
      "# the default is to take u_t(x,0)=0\n",
      "timeevolution(2,B,\u0394,u0,h)"
     ],
     "language": "python",
     "metadata": {},
     "outputs": [
      {
       "output_type": "stream",
       "stream": "stderr",
       "text": [
        "Warning: redefining constant volumeshader\n",
        "Warning: redefining constant uvwshader\n"
       ]
      },
      {
       "ename": "LoadError",
       "evalue": "The GLFW library is not initialized\nwhile loading In[3], in expression starting on line 14",
       "output_type": "pyerr",
       "traceback": [
        "The GLFW library is not initialized\nwhile loading In[3], in expression starting on line 14",
        "",
        " in error at error.jl:21",
        " in anonymous at /Users/solver/.julia/v0.3/GLFW/src/GLFW.jl:27",
        " in ErrorCallbackWrapper at /Users/solver/.julia/v0.3/GLFW/src/util.jl:36",
        " in PollEvents at /Users/solver/.julia/v0.3/GLFW/src/glfw3.jl:419",
        " in glupdatewindow at /Users/solver/.julia/v0.3/ApproxFun/src/Plot/GLPlot.jl:35",
        " in glsurfupdate at /Users/solver/.julia/v0.3/ApproxFun/src/Plot/GLPlot.jl:53",
        " in plot at /Users/solver/.julia/v0.3/ApproxFun/src/Plot/Plot.jl:203",
        " in timeevolution2 at /Users/solver/.julia/v0.3/ApproxFun/src/Extras/timeevolution.jl:166",
        " in timeevolution2 at /Users/solver/.julia/v0.3/ApproxFun/src/Extras/timeevolution.jl:205",
        " in timeevolution2 at /Users/solver/.julia/v0.3/ApproxFun/src/Extras/timeevolution.jl:215",
        " in timeevolution at /Users/solver/.julia/v0.3/ApproxFun/src/Extras/timeevolution.jl:217"
       ]
      }
     ],
     "prompt_number": 3
    },
    {
     "cell_type": "heading",
     "level": 1,
     "metadata": {},
     "source": [
      "Wave equation with Neumann\n",
      "$$u_{tt} = \\Delta u, u(x,y,0)=u_0(x,y)$$"
     ]
    },
    {
     "cell_type": "code",
     "collapsed": false,
     "input": [
      "h    = 0.005\n",
      "d=Disk()\n",
      "# initial condition\n",
      "u0   = Fun((x,y)->exp(-50x^2-40(y-.1)^2)+.5exp(-30(x+.5)^2-40(y+.2)^2),d)\n",
      "B= neumann(d)\n",
      "\n",
      "\u0394=lap(d)\n",
      "\n",
      "timeevolution(2,B,\u0394,u0,h)\n"
     ],
     "language": "python",
     "metadata": {},
     "outputs": [
      {
       "output_type": "stream",
       "stream": "stderr",
       "text": [
        "Warning: redefining constant volumeshader\n",
        "Warning: redefining constant uvwshader\n",
        "2015-07-06 10:32:18.746 julia[55320:592181] IMK Stall detected, *please Report* your user scenario in <rdar://problem/16792073> - (imkxpc_inputSessionDoneSleepWithReply:) block performed very slowly (3.54 secs)\n"
       ]
      },
      {
       "ename": "LoadError",
       "evalue": "The GLFW library is not initialized\nwhile loading In[4], in expression starting on line 9",
       "output_type": "pyerr",
       "traceback": [
        "The GLFW library is not initialized\nwhile loading In[4], in expression starting on line 9",
        "",
        " in error at error.jl:21",
        " in anonymous at /Users/solver/.julia/v0.3/GLFW/src/GLFW.jl:27",
        " in ErrorCallbackWrapper at /Users/solver/.julia/v0.3/GLFW/src/util.jl:36",
        " in PollEvents at /Users/solver/.julia/v0.3/GLFW/src/glfw3.jl:419",
        " in glupdatewindow at /Users/solver/.julia/v0.3/ApproxFun/src/Plot/GLPlot.jl:35",
        " in glsurfupdate at /Users/solver/.julia/v0.3/ApproxFun/src/Plot/GLPlot.jl:53",
        " in plot at /Users/solver/.julia/v0.3/ApproxFun/src/Plot/Plot.jl:203",
        " in timeevolution2 at /Users/solver/.julia/v0.3/ApproxFun/src/Extras/timeevolution.jl:166",
        " in timeevolution2 at /Users/solver/.julia/v0.3/ApproxFun/src/Extras/timeevolution.jl:205",
        " in timeevolution2 at /Users/solver/.julia/v0.3/ApproxFun/src/Extras/timeevolution.jl:215",
        " in timeevolution at /Users/solver/.julia/v0.3/ApproxFun/src/Extras/timeevolution.jl:217"
       ]
      }
     ],
     "prompt_number": 4
    },
    {
     "cell_type": "heading",
     "level": 1,
     "metadata": {},
     "source": [
      "Klein\u2013Gordon equation with Dirichlet\n",
      "$$u_{tt} = \\Delta u - 100u, u(x,y,0)=u_0(x,y)$$"
     ]
    },
    {
     "cell_type": "code",
     "collapsed": false,
     "input": [
      "\n",
      "d=Disk()\n",
      "# initial condition\n",
      "u0   = Fun((x,y)->exp(-50x^2-40(y-.1)^2)+.5exp(-30(x+.5)^2-40(y+.2)^2),d)\n",
      "B= dirichlet(d) \n",
      "\n",
      "L=lap(d)-100I\n",
      "\n",
      "h    = 0.005\n",
      "timeevolution(2,B,L,u0,h)\n"
     ],
     "language": "python",
     "metadata": {},
     "outputs": []
    },
    {
     "cell_type": "heading",
     "level": 1,
     "metadata": {},
     "source": [
      "Beam equation\n",
      "    $$u_{tt} + \\Delta^2 u = 0$$"
     ]
    },
    {
     "cell_type": "code",
     "collapsed": false,
     "input": [
      "\n",
      "d=Disk()\n",
      "# initial condition\n",
      "u0   = Fun((x,y)->exp(-50x^2-40(y-.1)^2)+.5exp(-30(x+.5)^2-40(y+.2)^2),d)\n",
      "B= [dirichlet(d) ,neumann(d)]\n",
      "\n",
      "L=-lap(d)^2\n",
      "\n",
      "h    = 0.0005\n",
      "u4=timeevolution(2,B,L,u0,h);\n",
      "\n"
     ],
     "language": "python",
     "metadata": {},
     "outputs": []
    }
   ],
   "metadata": {}
  }
 ]
}